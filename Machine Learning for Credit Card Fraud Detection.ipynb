{
 "cells": [
  {
   "cell_type": "markdown",
   "id": "c0fc60ad",
   "metadata": {},
   "source": [
    "### Introduction"
   ]
  },
  {
   "cell_type": "markdown",
   "id": "2883e327",
   "metadata": {},
   "source": [
    "Credit cards offer convenience by eliminating the need to carry large amounts of cash and allow for purchases to be paid over time. According to Statista, global transactions increased from 195 billion to 468 billion annually between 2014 and 2020.\n",
    "\n",
    "Identifying fraudulent transactions is crucial for credit card companies to prevent customers from being charged for unauthorized purchases. To address this, I developed a machine learning classification model to train computers to detect patterns distinguishing genuine transactions from fraudulent ones."
   ]
  },
  {
   "cell_type": "markdown",
   "id": "3f4156cd",
   "metadata": {},
   "source": [
    "### Understanding the Data "
   ]
  },
  {
   "cell_type": "markdown",
   "id": "e141330d",
   "metadata": {},
   "source": [
    "The dataset used for this project was the Credit Card Fraud Detection dataset, available on Kaggle, and it contains credit card transactions that were made during the month of September, 2013 by European clients during two days. It has 284,807 transactions and 30 variables."
   ]
  },
  {
   "cell_type": "markdown",
   "id": "0eb181bb",
   "metadata": {},
   "source": [
    "### Importing libraries "
   ]
  },
  {
   "cell_type": "code",
   "execution_count": 55,
   "id": "91d15345",
   "metadata": {},
   "outputs": [],
   "source": [
    "# import the necessary packages \n",
    "import numpy as np \n",
    "import pandas as pd \n",
    "import matplotlib.pyplot as plt \n",
    "\n",
    "import seaborn as sns \n",
    "import plotly.express as px\n",
    "from sklearn.preprocessing import StandardScaler\n",
    "from matplotlib import gridspec \n",
    "from sklearn.model_selection import train_test_split\n",
    "\n",
    "from sklearn.metrics import classification_report, accuracy_score  \n",
    "from sklearn.metrics import precision_score, recall_score \n",
    "from sklearn.metrics import f1_score, matthews_corrcoef \n",
    "from sklearn.metrics import confusion_matrix\n",
    "from sklearn.metrics import roc_curve, auc , roc_auc_score"
   ]
  },
  {
   "cell_type": "markdown",
   "id": "92d1f05c",
   "metadata": {},
   "source": [
    "### Loading Data "
   ]
  },
  {
   "cell_type": "code",
   "execution_count": 2,
   "id": "b86dbef4",
   "metadata": {},
   "outputs": [],
   "source": [
    "data = pd.read_csv(\"creditcard_fraud_data.csv\") "
   ]
  },
  {
   "cell_type": "code",
   "execution_count": 3,
   "id": "696148ef",
   "metadata": {},
   "outputs": [
    {
     "name": "stdout",
     "output_type": "stream",
     "text": [
      "(284807, 31)\n",
      "                Time            V1            V2            V3            V4  \\\n",
      "count  284807.000000  2.848070e+05  2.848070e+05  2.848070e+05  2.848070e+05   \n",
      "mean    94813.859575  1.168375e-15  3.416908e-16 -1.379537e-15  2.074095e-15   \n",
      "std     47488.145955  1.958696e+00  1.651309e+00  1.516255e+00  1.415869e+00   \n",
      "min         0.000000 -5.640751e+01 -7.271573e+01 -4.832559e+01 -5.683171e+00   \n",
      "25%     54201.500000 -9.203734e-01 -5.985499e-01 -8.903648e-01 -8.486401e-01   \n",
      "50%     84692.000000  1.810880e-02  6.548556e-02  1.798463e-01 -1.984653e-02   \n",
      "75%    139320.500000  1.315642e+00  8.037239e-01  1.027196e+00  7.433413e-01   \n",
      "max    172792.000000  2.454930e+00  2.205773e+01  9.382558e+00  1.687534e+01   \n",
      "\n",
      "                 V5            V6            V7            V8            V9  \\\n",
      "count  2.848070e+05  2.848070e+05  2.848070e+05  2.848070e+05  2.848070e+05   \n",
      "mean   9.604066e-16  1.487313e-15 -5.556467e-16  1.213481e-16 -2.406331e-15   \n",
      "std    1.380247e+00  1.332271e+00  1.237094e+00  1.194353e+00  1.098632e+00   \n",
      "min   -1.137433e+02 -2.616051e+01 -4.355724e+01 -7.321672e+01 -1.343407e+01   \n",
      "25%   -6.915971e-01 -7.682956e-01 -5.540759e-01 -2.086297e-01 -6.430976e-01   \n",
      "50%   -5.433583e-02 -2.741871e-01  4.010308e-02  2.235804e-02 -5.142873e-02   \n",
      "75%    6.119264e-01  3.985649e-01  5.704361e-01  3.273459e-01  5.971390e-01   \n",
      "max    3.480167e+01  7.330163e+01  1.205895e+02  2.000721e+01  1.559499e+01   \n",
      "\n",
      "       ...           V21           V22           V23           V24  \\\n",
      "count  ...  2.848070e+05  2.848070e+05  2.848070e+05  2.848070e+05   \n",
      "mean   ...  1.654067e-16 -3.568593e-16  2.578648e-16  4.473266e-15   \n",
      "std    ...  7.345240e-01  7.257016e-01  6.244603e-01  6.056471e-01   \n",
      "min    ... -3.483038e+01 -1.093314e+01 -4.480774e+01 -2.836627e+00   \n",
      "25%    ... -2.283949e-01 -5.423504e-01 -1.618463e-01 -3.545861e-01   \n",
      "50%    ... -2.945017e-02  6.781943e-03 -1.119293e-02  4.097606e-02   \n",
      "75%    ...  1.863772e-01  5.285536e-01  1.476421e-01  4.395266e-01   \n",
      "max    ...  2.720284e+01  1.050309e+01  2.252841e+01  4.584549e+00   \n",
      "\n",
      "                V25           V26           V27           V28         Amount  \\\n",
      "count  2.848070e+05  2.848070e+05  2.848070e+05  2.848070e+05  284807.000000   \n",
      "mean   5.340915e-16  1.683437e-15 -3.660091e-16 -1.227390e-16      88.349619   \n",
      "std    5.212781e-01  4.822270e-01  4.036325e-01  3.300833e-01     250.120109   \n",
      "min   -1.029540e+01 -2.604551e+00 -2.256568e+01 -1.543008e+01       0.000000   \n",
      "25%   -3.171451e-01 -3.269839e-01 -7.083953e-02 -5.295979e-02       5.600000   \n",
      "50%    1.659350e-02 -5.213911e-02  1.342146e-03  1.124383e-02      22.000000   \n",
      "75%    3.507156e-01  2.409522e-01  9.104512e-02  7.827995e-02      77.165000   \n",
      "max    7.519589e+00  3.517346e+00  3.161220e+01  3.384781e+01   25691.160000   \n",
      "\n",
      "               Class  \n",
      "count  284807.000000  \n",
      "mean        0.001727  \n",
      "std         0.041527  \n",
      "min         0.000000  \n",
      "25%         0.000000  \n",
      "50%         0.000000  \n",
      "75%         0.000000  \n",
      "max         1.000000  \n",
      "\n",
      "[8 rows x 31 columns]\n"
     ]
    }
   ],
   "source": [
    "\n",
    "# Print the shape of the data \n",
    "# data = data.sample(frac = 0.1, random_state = 48) \n",
    "print(data.shape) \n",
    "print(data.describe()) "
   ]
  },
  {
   "cell_type": "code",
   "execution_count": 4,
   "id": "64bf40b6",
   "metadata": {},
   "outputs": [
    {
     "name": "stdout",
     "output_type": "stream",
     "text": [
      "0.0017304750013189597\n",
      "Fraud Cases: 492\n",
      "Valid Transactions: 284315\n"
     ]
    }
   ],
   "source": [
    "# Determine number of fraud cases in dataset \n",
    "fraud = data[data['Class'] == 1] \n",
    "valid = data[data['Class'] == 0] \n",
    "outlierFraction = len(fraud)/float(len(valid)) \n",
    "print(outlierFraction) \n",
    "print('Fraud Cases: {}'.format(len(data[data['Class'] == 1]))) \n",
    "print('Valid Transactions: {}'.format(len(data[data['Class'] == 0]))) "
   ]
  },
  {
   "cell_type": "markdown",
   "id": "d82c231b",
   "metadata": {},
   "source": [
    "Only 0.17% fraudulent transaction out all the transactions. The data is highly Unbalanced. Lets first apply our models without balancing it and if we don’t get a good accuracy then we can find a way to balance this dataset. But first, let’s implement the model without it and will balance the data only if needed."
   ]
  },
  {
   "cell_type": "code",
   "execution_count": 5,
   "id": "6192eb57",
   "metadata": {},
   "outputs": [
    {
     "name": "stdout",
     "output_type": "stream",
     "text": [
      "Amount details of the fraudulent transaction\n"
     ]
    },
    {
     "data": {
      "text/plain": [
       "count     492.000000\n",
       "mean      122.211321\n",
       "std       256.683288\n",
       "min         0.000000\n",
       "25%         1.000000\n",
       "50%         9.250000\n",
       "75%       105.890000\n",
       "max      2125.870000\n",
       "Name: Amount, dtype: float64"
      ]
     },
     "execution_count": 5,
     "metadata": {},
     "output_type": "execute_result"
    }
   ],
   "source": [
    "#Print the amount details for Fraudulent Transaction\n",
    "print('Amount details of the fraudulent transaction') \n",
    "fraud.Amount.describe() "
   ]
  },
  {
   "cell_type": "code",
   "execution_count": 6,
   "id": "bc0fe502",
   "metadata": {},
   "outputs": [
    {
     "name": "stdout",
     "output_type": "stream",
     "text": [
      "details of valid transaction\n"
     ]
    },
    {
     "data": {
      "text/plain": [
       "count    284315.000000\n",
       "mean         88.291022\n",
       "std         250.105092\n",
       "min           0.000000\n",
       "25%           5.650000\n",
       "50%          22.000000\n",
       "75%          77.050000\n",
       "max       25691.160000\n",
       "Name: Amount, dtype: float64"
      ]
     },
     "execution_count": 6,
     "metadata": {},
     "output_type": "execute_result"
    }
   ],
   "source": [
    "#Print the amount details for Normal Transaction\n",
    "print('details of valid transaction') \n",
    "valid.Amount.describe() "
   ]
  },
  {
   "cell_type": "code",
   "execution_count": 7,
   "id": "dcb8f2d1",
   "metadata": {},
   "outputs": [
    {
     "data": {
      "image/png": "[encoded data removed]"
     },
     "metadata": {},
     "output_type": "display_data"
    }
   ],
   "source": [
    "# Distribution of fraudulent transactions amount\n",
    "fig = px.scatter(data.query(\"Class==1\"), x = 'Amount', y =data.query(\"Class==1\").index,\n",
    "                title = 'Distribution of Fraudulent Amounts')\n",
    "fig.update_layout(xaxis_title='Transaction Amount',\n",
    "                  yaxis_title='Transactions')\n",
    "fig.show('png')"
   ]
  },
  {
   "cell_type": "markdown",
   "id": "e7185e23",
   "metadata": {},
   "source": [
    "Plotting the Correlation Matrix\n",
    "The correlation matrix graphically gives us an idea of how features correlate with each other and can help us predict what are the features that are most relevant for the prediction."
   ]
  },
  {
   "cell_type": "code",
   "execution_count": 8,
   "id": "91fdd872",
   "metadata": {},
   "outputs": [
    {
     "data": {
      "image/png": "[encoded data removed]",
      "text/plain": [
       "<Figure size 1200x900 with 2 Axes>"
      ]
     },
     "metadata": {},
     "output_type": "display_data"
    }
   ],
   "source": [
    "# Correlation matrix \n",
    "corrmat = data.corr() \n",
    "fig = plt.figure(figsize = (12, 9)) \n",
    "sns.heatmap(corrmat, vmax = .8, square = True) \n",
    "plt.show() "
   ]
  },
  {
   "cell_type": "markdown",
   "id": "30ee64fb",
   "metadata": {},
   "source": [
    "In the HeatMap we can clearly see that most of the features do not correlate to other features but there are some features that either has a positive or a negative correlation with each other. For example, V2 and V5 are highly negatively correlated with the feature called Amount. We also see some correlation with V20 and Amount. "
   ]
  },
  {
   "cell_type": "code",
   "execution_count": 9,
   "id": "4f573b85",
   "metadata": {},
   "outputs": [
    {
     "name": "stdout",
     "output_type": "stream",
     "text": [
      "(284807, 30)\n",
      "(284807,)\n"
     ]
    }
   ],
   "source": [
    "# dividing the X and the Y from the dataset \n",
    "X = data.drop(['Class'], axis = 1) \n",
    "Y = data[\"Class\"] \n",
    "print(X.shape) \n",
    "print(Y.shape) \n",
    "\n"
   ]
  },
  {
   "cell_type": "markdown",
   "id": "efb90688",
   "metadata": {},
   "source": [
    "### Training and Testing Data`"
   ]
  },
  {
   "cell_type": "code",
   "execution_count": 10,
   "id": "86ff697d",
   "metadata": {},
   "outputs": [
    {
     "name": "stdout",
     "output_type": "stream",
     "text": [
      "X Train size:  (199364, 30)\n",
      "X Test size:  (85443, 30)\n",
      "X Test proportion  30%\n",
      "Y Train size:  (199364,)\n",
      "Y Test size:  (85443,)\n",
      "Y Test proportion  30%\n"
     ]
    }
   ],
   "source": [
    "train_x, test_x, train_y, test_y = train_test_split(X, Y, test_size= .3 , random_state= 111)\n",
    "\n",
    "print('X Train size: ', train_x.shape)\n",
    "print('X Test size: ', test_x.shape)\n",
    "print('X Test proportion ', \"%s%%\"%round((len(test_x) / (len(train_x) + len(test_x))) * 100))\n",
    "print('Y Train size: ', train_y.shape)\n",
    "print('Y Test size: ', test_y.shape)\n",
    "print('Y Test proportion ', \"%s%%\"%round((len(test_y) / (len(train_y) + len(test_y))) * 100))"
   ]
  },
  {
   "cell_type": "code",
   "execution_count": 11,
   "id": "3061ab18",
   "metadata": {},
   "outputs": [
    {
     "data": {
      "text/html": [
       "<div>\n",
       "<style scoped>\n",
       "    .dataframe tbody tr th:only-of-type {\n",
       "        vertical-align: middle;\n",
       "    }\n",
       "\n",
       "    .dataframe tbody tr th {\n",
       "        vertical-align: top;\n",
       "    }\n",
       "\n",
       "    .dataframe thead th {\n",
       "        text-align: right;\n",
       "    }\n",
       "</style>\n",
       "<table border=\"1\" class=\"dataframe\">\n",
       "  <thead>\n",
       "    <tr style=\"text-align: right;\">\n",
       "      <th></th>\n",
       "      <th>Time</th>\n",
       "      <th>V1</th>\n",
       "      <th>V2</th>\n",
       "      <th>V3</th>\n",
       "      <th>V4</th>\n",
       "      <th>V5</th>\n",
       "      <th>V6</th>\n",
       "      <th>V7</th>\n",
       "      <th>V8</th>\n",
       "      <th>V9</th>\n",
       "      <th>...</th>\n",
       "      <th>V20</th>\n",
       "      <th>V21</th>\n",
       "      <th>V22</th>\n",
       "      <th>V23</th>\n",
       "      <th>V24</th>\n",
       "      <th>V25</th>\n",
       "      <th>V26</th>\n",
       "      <th>V27</th>\n",
       "      <th>V28</th>\n",
       "      <th>Amount</th>\n",
       "    </tr>\n",
       "  </thead>\n",
       "  <tbody>\n",
       "    <tr>\n",
       "      <th>64454</th>\n",
       "      <td>51150.0</td>\n",
       "      <td>-3.538816</td>\n",
       "      <td>3.481893</td>\n",
       "      <td>-1.827130</td>\n",
       "      <td>-0.573050</td>\n",
       "      <td>2.644106</td>\n",
       "      <td>-0.340988</td>\n",
       "      <td>2.102135</td>\n",
       "      <td>-2.939006</td>\n",
       "      <td>2.578654</td>\n",
       "      <td>...</td>\n",
       "      <td>1.345904</td>\n",
       "      <td>0.530978</td>\n",
       "      <td>-0.860677</td>\n",
       "      <td>-0.201810</td>\n",
       "      <td>-1.719747</td>\n",
       "      <td>0.729143</td>\n",
       "      <td>-0.547993</td>\n",
       "      <td>-0.023636</td>\n",
       "      <td>-0.454966</td>\n",
       "      <td>-0.364820</td>\n",
       "    </tr>\n",
       "    <tr>\n",
       "      <th>37906</th>\n",
       "      <td>39163.0</td>\n",
       "      <td>-0.363913</td>\n",
       "      <td>0.853399</td>\n",
       "      <td>1.648195</td>\n",
       "      <td>1.118934</td>\n",
       "      <td>0.100882</td>\n",
       "      <td>0.423852</td>\n",
       "      <td>0.472790</td>\n",
       "      <td>-0.972440</td>\n",
       "      <td>0.033833</td>\n",
       "      <td>...</td>\n",
       "      <td>-0.192932</td>\n",
       "      <td>0.687055</td>\n",
       "      <td>-0.094586</td>\n",
       "      <td>0.121531</td>\n",
       "      <td>0.146830</td>\n",
       "      <td>-0.944092</td>\n",
       "      <td>-0.558564</td>\n",
       "      <td>-0.186814</td>\n",
       "      <td>-0.257103</td>\n",
       "      <td>-0.291617</td>\n",
       "    </tr>\n",
       "    <tr>\n",
       "      <th>79378</th>\n",
       "      <td>57994.0</td>\n",
       "      <td>1.193021</td>\n",
       "      <td>-0.136714</td>\n",
       "      <td>0.622612</td>\n",
       "      <td>0.780864</td>\n",
       "      <td>-0.823511</td>\n",
       "      <td>-0.706444</td>\n",
       "      <td>-0.206073</td>\n",
       "      <td>-0.016918</td>\n",
       "      <td>0.781531</td>\n",
       "      <td>...</td>\n",
       "      <td>-0.178761</td>\n",
       "      <td>-0.310405</td>\n",
       "      <td>-0.842028</td>\n",
       "      <td>0.085477</td>\n",
       "      <td>0.366005</td>\n",
       "      <td>0.254443</td>\n",
       "      <td>0.290002</td>\n",
       "      <td>-0.036764</td>\n",
       "      <td>0.015039</td>\n",
       "      <td>-0.269644</td>\n",
       "    </tr>\n",
       "    <tr>\n",
       "      <th>245686</th>\n",
       "      <td>152859.0</td>\n",
       "      <td>1.604032</td>\n",
       "      <td>-0.808208</td>\n",
       "      <td>-1.594982</td>\n",
       "      <td>0.200475</td>\n",
       "      <td>0.502985</td>\n",
       "      <td>0.832370</td>\n",
       "      <td>-0.034071</td>\n",
       "      <td>0.234040</td>\n",
       "      <td>0.550616</td>\n",
       "      <td>...</td>\n",
       "      <td>-0.040448</td>\n",
       "      <td>0.519029</td>\n",
       "      <td>1.429217</td>\n",
       "      <td>-0.139322</td>\n",
       "      <td>-1.293663</td>\n",
       "      <td>0.037785</td>\n",
       "      <td>0.061206</td>\n",
       "      <td>0.005387</td>\n",
       "      <td>-0.057296</td>\n",
       "      <td>0.286095</td>\n",
       "    </tr>\n",
       "    <tr>\n",
       "      <th>60943</th>\n",
       "      <td>49575.0</td>\n",
       "      <td>-2.669614</td>\n",
       "      <td>-2.734385</td>\n",
       "      <td>0.662450</td>\n",
       "      <td>-0.059077</td>\n",
       "      <td>3.346850</td>\n",
       "      <td>-2.549682</td>\n",
       "      <td>-1.430571</td>\n",
       "      <td>-0.118450</td>\n",
       "      <td>0.469383</td>\n",
       "      <td>...</td>\n",
       "      <td>-0.430295</td>\n",
       "      <td>-0.228329</td>\n",
       "      <td>-0.370643</td>\n",
       "      <td>-0.211544</td>\n",
       "      <td>-0.300837</td>\n",
       "      <td>-1.174590</td>\n",
       "      <td>0.573818</td>\n",
       "      <td>0.388023</td>\n",
       "      <td>0.161782</td>\n",
       "      <td>-0.128344</td>\n",
       "    </tr>\n",
       "    <tr>\n",
       "      <th>...</th>\n",
       "      <td>...</td>\n",
       "      <td>...</td>\n",
       "      <td>...</td>\n",
       "      <td>...</td>\n",
       "      <td>...</td>\n",
       "      <td>...</td>\n",
       "      <td>...</td>\n",
       "      <td>...</td>\n",
       "      <td>...</td>\n",
       "      <td>...</td>\n",
       "      <td>...</td>\n",
       "      <td>...</td>\n",
       "      <td>...</td>\n",
       "      <td>...</td>\n",
       "      <td>...</td>\n",
       "      <td>...</td>\n",
       "      <td>...</td>\n",
       "      <td>...</td>\n",
       "      <td>...</td>\n",
       "      <td>...</td>\n",
       "      <td>...</td>\n",
       "    </tr>\n",
       "    <tr>\n",
       "      <th>105747</th>\n",
       "      <td>69669.0</td>\n",
       "      <td>1.222065</td>\n",
       "      <td>-0.557475</td>\n",
       "      <td>0.231881</td>\n",
       "      <td>-0.054993</td>\n",
       "      <td>-0.516954</td>\n",
       "      <td>0.277267</td>\n",
       "      <td>-0.428552</td>\n",
       "      <td>0.064469</td>\n",
       "      <td>-1.007380</td>\n",
       "      <td>...</td>\n",
       "      <td>-0.423128</td>\n",
       "      <td>-0.432976</td>\n",
       "      <td>-0.627235</td>\n",
       "      <td>-0.038963</td>\n",
       "      <td>-0.270258</td>\n",
       "      <td>0.423935</td>\n",
       "      <td>0.395472</td>\n",
       "      <td>0.005571</td>\n",
       "      <td>0.003752</td>\n",
       "      <td>-0.188823</td>\n",
       "    </tr>\n",
       "    <tr>\n",
       "      <th>102486</th>\n",
       "      <td>68226.0</td>\n",
       "      <td>-0.378726</td>\n",
       "      <td>0.176414</td>\n",
       "      <td>2.038723</td>\n",
       "      <td>1.075694</td>\n",
       "      <td>-0.216415</td>\n",
       "      <td>0.921706</td>\n",
       "      <td>0.055936</td>\n",
       "      <td>0.337719</td>\n",
       "      <td>0.397505</td>\n",
       "      <td>...</td>\n",
       "      <td>0.027322</td>\n",
       "      <td>0.207481</td>\n",
       "      <td>0.801599</td>\n",
       "      <td>-0.158665</td>\n",
       "      <td>-0.340407</td>\n",
       "      <td>-0.327219</td>\n",
       "      <td>-0.132057</td>\n",
       "      <td>0.020642</td>\n",
       "      <td>-0.085085</td>\n",
       "      <td>-0.163920</td>\n",
       "    </tr>\n",
       "    <tr>\n",
       "      <th>135892</th>\n",
       "      <td>81448.0</td>\n",
       "      <td>-2.201029</td>\n",
       "      <td>2.135296</td>\n",
       "      <td>-0.082015</td>\n",
       "      <td>-0.079166</td>\n",
       "      <td>-0.824369</td>\n",
       "      <td>-0.347833</td>\n",
       "      <td>-0.465664</td>\n",
       "      <td>1.384499</td>\n",
       "      <td>0.152787</td>\n",
       "      <td>...</td>\n",
       "      <td>0.104650</td>\n",
       "      <td>-0.222762</td>\n",
       "      <td>-0.569381</td>\n",
       "      <td>-0.039511</td>\n",
       "      <td>-0.459539</td>\n",
       "      <td>0.307848</td>\n",
       "      <td>0.316537</td>\n",
       "      <td>0.269799</td>\n",
       "      <td>0.147944</td>\n",
       "      <td>-0.330374</td>\n",
       "    </tr>\n",
       "    <tr>\n",
       "      <th>10196</th>\n",
       "      <td>15772.0</td>\n",
       "      <td>-1.998332</td>\n",
       "      <td>-0.137916</td>\n",
       "      <td>2.196376</td>\n",
       "      <td>1.961751</td>\n",
       "      <td>-0.344791</td>\n",
       "      <td>0.764497</td>\n",
       "      <td>0.196137</td>\n",
       "      <td>0.123434</td>\n",
       "      <td>2.914590</td>\n",
       "      <td>...</td>\n",
       "      <td>-0.258861</td>\n",
       "      <td>-0.854563</td>\n",
       "      <td>-0.761780</td>\n",
       "      <td>0.709752</td>\n",
       "      <td>-0.053680</td>\n",
       "      <td>0.139729</td>\n",
       "      <td>-0.383565</td>\n",
       "      <td>0.534322</td>\n",
       "      <td>0.071052</td>\n",
       "      <td>-0.004875</td>\n",
       "    </tr>\n",
       "    <tr>\n",
       "      <th>129900</th>\n",
       "      <td>79237.0</td>\n",
       "      <td>1.245801</td>\n",
       "      <td>-0.448697</td>\n",
       "      <td>0.882059</td>\n",
       "      <td>-0.711534</td>\n",
       "      <td>-1.333740</td>\n",
       "      <td>-0.858295</td>\n",
       "      <td>-0.666356</td>\n",
       "      <td>0.045260</td>\n",
       "      <td>2.030706</td>\n",
       "      <td>...</td>\n",
       "      <td>-0.214347</td>\n",
       "      <td>-0.028209</td>\n",
       "      <td>0.101153</td>\n",
       "      <td>-0.019020</td>\n",
       "      <td>0.371669</td>\n",
       "      <td>0.453354</td>\n",
       "      <td>-0.681970</td>\n",
       "      <td>0.084611</td>\n",
       "      <td>0.032330</td>\n",
       "      <td>-0.364820</td>\n",
       "    </tr>\n",
       "  </tbody>\n",
       "</table>\n",
       "<p>199364 rows × 30 columns</p>\n",
       "</div>"
      ],
      "text/plain": [
       "            Time        V1        V2        V3        V4        V5        V6  \\\n",
       "64454    51150.0 -3.538816  3.481893 -1.827130 -0.573050  2.644106 -0.340988   \n",
       "37906    39163.0 -0.363913  0.853399  1.648195  1.118934  0.100882  0.423852   \n",
       "79378    57994.0  1.193021 -0.136714  0.622612  0.780864 -0.823511 -0.706444   \n",
       "245686  152859.0  1.604032 -0.808208 -1.594982  0.200475  0.502985  0.832370   \n",
       "60943    49575.0 -2.669614 -2.734385  0.662450 -0.059077  3.346850 -2.549682   \n",
       "...          ...       ...       ...       ...       ...       ...       ...   \n",
       "105747   69669.0  1.222065 -0.557475  0.231881 -0.054993 -0.516954  0.277267   \n",
       "102486   68226.0 -0.378726  0.176414  2.038723  1.075694 -0.216415  0.921706   \n",
       "135892   81448.0 -2.201029  2.135296 -0.082015 -0.079166 -0.824369 -0.347833   \n",
       "10196    15772.0 -1.998332 -0.137916  2.196376  1.961751 -0.344791  0.764497   \n",
       "129900   79237.0  1.245801 -0.448697  0.882059 -0.711534 -1.333740 -0.858295   \n",
       "\n",
       "              V7        V8        V9  ...       V20       V21       V22  \\\n",
       "64454   2.102135 -2.939006  2.578654  ...  1.345904  0.530978 -0.860677   \n",
       "37906   0.472790 -0.972440  0.033833  ... -0.192932  0.687055 -0.094586   \n",
       "79378  -0.206073 -0.016918  0.781531  ... -0.178761 -0.310405 -0.842028   \n",
       "245686 -0.034071  0.234040  0.550616  ... -0.040448  0.519029  1.429217   \n",
       "60943  -1.430571 -0.118450  0.469383  ... -0.430295 -0.228329 -0.370643   \n",
       "...          ...       ...       ...  ...       ...       ...       ...   \n",
       "105747 -0.428552  0.064469 -1.007380  ... -0.423128 -0.432976 -0.627235   \n",
       "102486  0.055936  0.337719  0.397505  ...  0.027322  0.207481  0.801599   \n",
       "135892 -0.465664  1.384499  0.152787  ...  0.104650 -0.222762 -0.569381   \n",
       "10196   0.196137  0.123434  2.914590  ... -0.258861 -0.854563 -0.761780   \n",
       "129900 -0.666356  0.045260  2.030706  ... -0.214347 -0.028209  0.101153   \n",
       "\n",
       "             V23       V24       V25       V26       V27       V28    Amount  \n",
       "64454  -0.201810 -1.719747  0.729143 -0.547993 -0.023636 -0.454966 -0.364820  \n",
       "37906   0.121531  0.146830 -0.944092 -0.558564 -0.186814 -0.257103 -0.291617  \n",
       "79378   0.085477  0.366005  0.254443  0.290002 -0.036764  0.015039 -0.269644  \n",
       "245686 -0.139322 -1.293663  0.037785  0.061206  0.005387 -0.057296  0.286095  \n",
       "60943  -0.211544 -0.300837 -1.174590  0.573818  0.388023  0.161782 -0.128344  \n",
       "...          ...       ...       ...       ...       ...       ...       ...  \n",
       "105747 -0.038963 -0.270258  0.423935  0.395472  0.005571  0.003752 -0.188823  \n",
       "102486 -0.158665 -0.340407 -0.327219 -0.132057  0.020642 -0.085085 -0.163920  \n",
       "135892 -0.039511 -0.459539  0.307848  0.316537  0.269799  0.147944 -0.330374  \n",
       "10196   0.709752 -0.053680  0.139729 -0.383565  0.534322  0.071052 -0.004875  \n",
       "129900 -0.019020  0.371669  0.453354 -0.681970  0.084611  0.032330 -0.364820  \n",
       "\n",
       "[199364 rows x 30 columns]"
      ]
     },
     "execution_count": 11,
     "metadata": {},
     "output_type": "execute_result"
    }
   ],
   "source": [
    "# Scaling data on the training set\n",
    "scaler = StandardScaler()\n",
    "train_x['Amount'] = scaler.fit_transform(train_x.Amount.values.reshape(-1,1))\n",
    "train_x"
   ]
  },
  {
   "cell_type": "code",
   "execution_count": 12,
   "id": "9716fea8",
   "metadata": {},
   "outputs": [
    {
     "data": {
      "text/html": [
       "<div>\n",
       "<style scoped>\n",
       "    .dataframe tbody tr th:only-of-type {\n",
       "        vertical-align: middle;\n",
       "    }\n",
       "\n",
       "    .dataframe tbody tr th {\n",
       "        vertical-align: top;\n",
       "    }\n",
       "\n",
       "    .dataframe thead th {\n",
       "        text-align: right;\n",
       "    }\n",
       "</style>\n",
       "<table border=\"1\" class=\"dataframe\">\n",
       "  <thead>\n",
       "    <tr style=\"text-align: right;\">\n",
       "      <th></th>\n",
       "      <th>Time</th>\n",
       "      <th>V1</th>\n",
       "      <th>V2</th>\n",
       "      <th>V3</th>\n",
       "      <th>V4</th>\n",
       "      <th>V5</th>\n",
       "      <th>V6</th>\n",
       "      <th>V7</th>\n",
       "      <th>V8</th>\n",
       "      <th>V9</th>\n",
       "      <th>...</th>\n",
       "      <th>V20</th>\n",
       "      <th>V21</th>\n",
       "      <th>V22</th>\n",
       "      <th>V23</th>\n",
       "      <th>V24</th>\n",
       "      <th>V25</th>\n",
       "      <th>V26</th>\n",
       "      <th>V27</th>\n",
       "      <th>V28</th>\n",
       "      <th>Amount</th>\n",
       "    </tr>\n",
       "  </thead>\n",
       "  <tbody>\n",
       "    <tr>\n",
       "      <th>254469</th>\n",
       "      <td>156745.0</td>\n",
       "      <td>-1.189404</td>\n",
       "      <td>-0.591269</td>\n",
       "      <td>-0.600846</td>\n",
       "      <td>3.512289</td>\n",
       "      <td>-1.390089</td>\n",
       "      <td>1.752359</td>\n",
       "      <td>2.374289</td>\n",
       "      <td>0.450939</td>\n",
       "      <td>-1.003577</td>\n",
       "      <td>...</td>\n",
       "      <td>0.969503</td>\n",
       "      <td>0.745457</td>\n",
       "      <td>1.095133</td>\n",
       "      <td>1.461693</td>\n",
       "      <td>0.589701</td>\n",
       "      <td>-0.209193</td>\n",
       "      <td>0.097121</td>\n",
       "      <td>-0.223566</td>\n",
       "      <td>0.092385</td>\n",
       "      <td>2.073851</td>\n",
       "    </tr>\n",
       "    <tr>\n",
       "      <th>121929</th>\n",
       "      <td>76371.0</td>\n",
       "      <td>1.253168</td>\n",
       "      <td>-0.536514</td>\n",
       "      <td>0.010453</td>\n",
       "      <td>-2.002376</td>\n",
       "      <td>-0.675496</td>\n",
       "      <td>-0.765532</td>\n",
       "      <td>-0.155118</td>\n",
       "      <td>-0.136187</td>\n",
       "      <td>1.882972</td>\n",
       "      <td>...</td>\n",
       "      <td>0.002578</td>\n",
       "      <td>0.016080</td>\n",
       "      <td>0.425180</td>\n",
       "      <td>-0.274055</td>\n",
       "      <td>0.104499</td>\n",
       "      <td>0.954705</td>\n",
       "      <td>-0.672143</td>\n",
       "      <td>0.074562</td>\n",
       "      <td>0.009715</td>\n",
       "      <td>-0.232562</td>\n",
       "    </tr>\n",
       "    <tr>\n",
       "      <th>114879</th>\n",
       "      <td>73658.0</td>\n",
       "      <td>-1.644384</td>\n",
       "      <td>0.233326</td>\n",
       "      <td>1.593087</td>\n",
       "      <td>-0.030053</td>\n",
       "      <td>1.026072</td>\n",
       "      <td>-1.067972</td>\n",
       "      <td>0.373123</td>\n",
       "      <td>-1.477697</td>\n",
       "      <td>0.415043</td>\n",
       "      <td>...</td>\n",
       "      <td>-0.240111</td>\n",
       "      <td>0.391676</td>\n",
       "      <td>-0.420744</td>\n",
       "      <td>-0.276312</td>\n",
       "      <td>0.542789</td>\n",
       "      <td>-0.633719</td>\n",
       "      <td>-0.028573</td>\n",
       "      <td>-0.127075</td>\n",
       "      <td>-0.290045</td>\n",
       "      <td>-0.265498</td>\n",
       "    </tr>\n",
       "    <tr>\n",
       "      <th>81232</th>\n",
       "      <td>58839.0</td>\n",
       "      <td>-0.636997</td>\n",
       "      <td>0.645736</td>\n",
       "      <td>0.269894</td>\n",
       "      <td>-0.538135</td>\n",
       "      <td>1.507577</td>\n",
       "      <td>4.108075</td>\n",
       "      <td>-0.988026</td>\n",
       "      <td>1.529162</td>\n",
       "      <td>0.059633</td>\n",
       "      <td>...</td>\n",
       "      <td>0.014794</td>\n",
       "      <td>0.039418</td>\n",
       "      <td>-0.003335</td>\n",
       "      <td>-0.023020</td>\n",
       "      <td>1.042331</td>\n",
       "      <td>-0.522377</td>\n",
       "      <td>0.315403</td>\n",
       "      <td>-0.079888</td>\n",
       "      <td>0.098038</td>\n",
       "      <td>-0.307288</td>\n",
       "    </tr>\n",
       "    <tr>\n",
       "      <th>273250</th>\n",
       "      <td>165506.0</td>\n",
       "      <td>-8.082612</td>\n",
       "      <td>7.069211</td>\n",
       "      <td>-4.137467</td>\n",
       "      <td>-3.087794</td>\n",
       "      <td>-0.356587</td>\n",
       "      <td>-1.988519</td>\n",
       "      <td>1.663142</td>\n",
       "      <td>-0.366969</td>\n",
       "      <td>6.218938</td>\n",
       "      <td>...</td>\n",
       "      <td>4.263887</td>\n",
       "      <td>-0.901314</td>\n",
       "      <td>0.532696</td>\n",
       "      <td>0.128477</td>\n",
       "      <td>0.005124</td>\n",
       "      <td>1.255585</td>\n",
       "      <td>-0.000528</td>\n",
       "      <td>2.071641</td>\n",
       "      <td>0.565471</td>\n",
       "      <td>-0.309437</td>\n",
       "    </tr>\n",
       "    <tr>\n",
       "      <th>...</th>\n",
       "      <td>...</td>\n",
       "      <td>...</td>\n",
       "      <td>...</td>\n",
       "      <td>...</td>\n",
       "      <td>...</td>\n",
       "      <td>...</td>\n",
       "      <td>...</td>\n",
       "      <td>...</td>\n",
       "      <td>...</td>\n",
       "      <td>...</td>\n",
       "      <td>...</td>\n",
       "      <td>...</td>\n",
       "      <td>...</td>\n",
       "      <td>...</td>\n",
       "      <td>...</td>\n",
       "      <td>...</td>\n",
       "      <td>...</td>\n",
       "      <td>...</td>\n",
       "      <td>...</td>\n",
       "      <td>...</td>\n",
       "      <td>...</td>\n",
       "    </tr>\n",
       "    <tr>\n",
       "      <th>145898</th>\n",
       "      <td>87260.0</td>\n",
       "      <td>-0.914450</td>\n",
       "      <td>2.361973</td>\n",
       "      <td>0.335526</td>\n",
       "      <td>4.114377</td>\n",
       "      <td>0.557196</td>\n",
       "      <td>0.874183</td>\n",
       "      <td>0.332492</td>\n",
       "      <td>0.540016</td>\n",
       "      <td>-2.070688</td>\n",
       "      <td>...</td>\n",
       "      <td>0.352808</td>\n",
       "      <td>-0.159933</td>\n",
       "      <td>-0.261357</td>\n",
       "      <td>0.186308</td>\n",
       "      <td>0.718244</td>\n",
       "      <td>-0.911284</td>\n",
       "      <td>-0.093219</td>\n",
       "      <td>-0.282263</td>\n",
       "      <td>-0.229368</td>\n",
       "      <td>-0.321679</td>\n",
       "    </tr>\n",
       "    <tr>\n",
       "      <th>259781</th>\n",
       "      <td>159269.0</td>\n",
       "      <td>2.204616</td>\n",
       "      <td>-1.738143</td>\n",
       "      <td>0.199040</td>\n",
       "      <td>-1.169062</td>\n",
       "      <td>-2.154919</td>\n",
       "      <td>-0.240743</td>\n",
       "      <td>-1.826352</td>\n",
       "      <td>0.055305</td>\n",
       "      <td>-0.167696</td>\n",
       "      <td>...</td>\n",
       "      <td>-0.462528</td>\n",
       "      <td>-0.351733</td>\n",
       "      <td>-0.277338</td>\n",
       "      <td>0.367239</td>\n",
       "      <td>0.017619</td>\n",
       "      <td>-0.484231</td>\n",
       "      <td>-0.301598</td>\n",
       "      <td>0.073366</td>\n",
       "      <td>-0.033047</td>\n",
       "      <td>-0.265170</td>\n",
       "    </tr>\n",
       "    <tr>\n",
       "      <th>114318</th>\n",
       "      <td>73432.0</td>\n",
       "      <td>1.167353</td>\n",
       "      <td>-0.980628</td>\n",
       "      <td>-0.070241</td>\n",
       "      <td>-1.031467</td>\n",
       "      <td>-0.336948</td>\n",
       "      <td>0.705070</td>\n",
       "      <td>-0.668792</td>\n",
       "      <td>0.087606</td>\n",
       "      <td>-1.020943</td>\n",
       "      <td>...</td>\n",
       "      <td>0.447678</td>\n",
       "      <td>0.436068</td>\n",
       "      <td>1.001649</td>\n",
       "      <td>-0.421000</td>\n",
       "      <td>-1.249586</td>\n",
       "      <td>0.648797</td>\n",
       "      <td>0.052853</td>\n",
       "      <td>0.012959</td>\n",
       "      <td>0.015032</td>\n",
       "      <td>0.177502</td>\n",
       "    </tr>\n",
       "    <tr>\n",
       "      <th>284692</th>\n",
       "      <td>172688.0</td>\n",
       "      <td>2.001831</td>\n",
       "      <td>0.570453</td>\n",
       "      <td>-2.364605</td>\n",
       "      <td>1.455708</td>\n",
       "      <td>1.169517</td>\n",
       "      <td>-0.855711</td>\n",
       "      <td>0.792066</td>\n",
       "      <td>-0.412883</td>\n",
       "      <td>-0.086356</td>\n",
       "      <td>...</td>\n",
       "      <td>-0.091051</td>\n",
       "      <td>-0.018417</td>\n",
       "      <td>0.181531</td>\n",
       "      <td>-0.039637</td>\n",
       "      <td>0.519640</td>\n",
       "      <td>0.537885</td>\n",
       "      <td>-0.521880</td>\n",
       "      <td>0.004388</td>\n",
       "      <td>-0.016896</td>\n",
       "      <td>-0.224801</td>\n",
       "    </tr>\n",
       "    <tr>\n",
       "      <th>41970</th>\n",
       "      <td>40900.0</td>\n",
       "      <td>-0.227238</td>\n",
       "      <td>0.684556</td>\n",
       "      <td>-0.327427</td>\n",
       "      <td>-0.264840</td>\n",
       "      <td>2.615043</td>\n",
       "      <td>3.509179</td>\n",
       "      <td>0.303479</td>\n",
       "      <td>0.823768</td>\n",
       "      <td>-0.800668</td>\n",
       "      <td>...</td>\n",
       "      <td>0.194679</td>\n",
       "      <td>0.125807</td>\n",
       "      <td>0.199623</td>\n",
       "      <td>-0.125174</td>\n",
       "      <td>1.004263</td>\n",
       "      <td>-0.085221</td>\n",
       "      <td>-0.320403</td>\n",
       "      <td>0.164272</td>\n",
       "      <td>0.160269</td>\n",
       "      <td>-0.189679</td>\n",
       "    </tr>\n",
       "  </tbody>\n",
       "</table>\n",
       "<p>85443 rows × 30 columns</p>\n",
       "</div>"
      ],
      "text/plain": [
       "            Time        V1        V2        V3        V4        V5        V6  \\\n",
       "254469  156745.0 -1.189404 -0.591269 -0.600846  3.512289 -1.390089  1.752359   \n",
       "121929   76371.0  1.253168 -0.536514  0.010453 -2.002376 -0.675496 -0.765532   \n",
       "114879   73658.0 -1.644384  0.233326  1.593087 -0.030053  1.026072 -1.067972   \n",
       "81232    58839.0 -0.636997  0.645736  0.269894 -0.538135  1.507577  4.108075   \n",
       "273250  165506.0 -8.082612  7.069211 -4.137467 -3.087794 -0.356587 -1.988519   \n",
       "...          ...       ...       ...       ...       ...       ...       ...   \n",
       "145898   87260.0 -0.914450  2.361973  0.335526  4.114377  0.557196  0.874183   \n",
       "259781  159269.0  2.204616 -1.738143  0.199040 -1.169062 -2.154919 -0.240743   \n",
       "114318   73432.0  1.167353 -0.980628 -0.070241 -1.031467 -0.336948  0.705070   \n",
       "284692  172688.0  2.001831  0.570453 -2.364605  1.455708  1.169517 -0.855711   \n",
       "41970    40900.0 -0.227238  0.684556 -0.327427 -0.264840  2.615043  3.509179   \n",
       "\n",
       "              V7        V8        V9  ...       V20       V21       V22  \\\n",
       "254469  2.374289  0.450939 -1.003577  ...  0.969503  0.745457  1.095133   \n",
       "121929 -0.155118 -0.136187  1.882972  ...  0.002578  0.016080  0.425180   \n",
       "114879  0.373123 -1.477697  0.415043  ... -0.240111  0.391676 -0.420744   \n",
       "81232  -0.988026  1.529162  0.059633  ...  0.014794  0.039418 -0.003335   \n",
       "273250  1.663142 -0.366969  6.218938  ...  4.263887 -0.901314  0.532696   \n",
       "...          ...       ...       ...  ...       ...       ...       ...   \n",
       "145898  0.332492  0.540016 -2.070688  ...  0.352808 -0.159933 -0.261357   \n",
       "259781 -1.826352  0.055305 -0.167696  ... -0.462528 -0.351733 -0.277338   \n",
       "114318 -0.668792  0.087606 -1.020943  ...  0.447678  0.436068  1.001649   \n",
       "284692  0.792066 -0.412883 -0.086356  ... -0.091051 -0.018417  0.181531   \n",
       "41970   0.303479  0.823768 -0.800668  ...  0.194679  0.125807  0.199623   \n",
       "\n",
       "             V23       V24       V25       V26       V27       V28    Amount  \n",
       "254469  1.461693  0.589701 -0.209193  0.097121 -0.223566  0.092385  2.073851  \n",
       "121929 -0.274055  0.104499  0.954705 -0.672143  0.074562  0.009715 -0.232562  \n",
       "114879 -0.276312  0.542789 -0.633719 -0.028573 -0.127075 -0.290045 -0.265498  \n",
       "81232  -0.023020  1.042331 -0.522377  0.315403 -0.079888  0.098038 -0.307288  \n",
       "273250  0.128477  0.005124  1.255585 -0.000528  2.071641  0.565471 -0.309437  \n",
       "...          ...       ...       ...       ...       ...       ...       ...  \n",
       "145898  0.186308  0.718244 -0.911284 -0.093219 -0.282263 -0.229368 -0.321679  \n",
       "259781  0.367239  0.017619 -0.484231 -0.301598  0.073366 -0.033047 -0.265170  \n",
       "114318 -0.421000 -1.249586  0.648797  0.052853  0.012959  0.015032  0.177502  \n",
       "284692 -0.039637  0.519640  0.537885 -0.521880  0.004388 -0.016896 -0.224801  \n",
       "41970  -0.125174  1.004263 -0.085221 -0.320403  0.164272  0.160269 -0.189679  \n",
       "\n",
       "[85443 rows x 30 columns]"
      ]
     },
     "execution_count": 12,
     "metadata": {},
     "output_type": "execute_result"
    }
   ],
   "source": [
    "# Scaling data on the testing set\n",
    "scaler = StandardScaler()\n",
    "test_x['Amount'] = scaler.fit_transform(test_x.Amount.values.reshape(-1,1))\n",
    "test_x"
   ]
  },
  {
   "cell_type": "markdown",
   "id": "f74247a4",
   "metadata": {},
   "source": [
    " we proceed to deal with the imbalance of our data. I used imblearn library to apply SMOTE in order to oversample the fraudulent data, which means that I increased the total number of fraudulent transactions by synthetically generating more of them based on the frauds that we already have in the dataset."
   ]
  },
  {
   "cell_type": "code",
   "execution_count": 13,
   "id": "590c4861",
   "metadata": {},
   "outputs": [
    {
     "data": {
      "text/plain": [
       "Class\n",
       "0    284315\n",
       "1       492\n",
       "Name: count, dtype: int64"
      ]
     },
     "execution_count": 13,
     "metadata": {},
     "output_type": "execute_result"
    }
   ],
   "source": [
    "Y.value_counts() # 0 = Genuine Transactions | 1 = Fraud"
   ]
  },
  {
   "cell_type": "code",
   "execution_count": 14,
   "id": "144926d4",
   "metadata": {},
   "outputs": [],
   "source": [
    "from imblearn.over_sampling import SMOTE\n",
    "train_x, train_y = SMOTE().fit_resample(train_x,train_y) # Reshaping data"
   ]
  },
  {
   "cell_type": "code",
   "execution_count": 15,
   "id": "f26890bf",
   "metadata": {},
   "outputs": [
    {
     "data": {
      "text/plain": [
       "Class\n",
       "0    199025\n",
       "1    199025\n",
       "Name: count, dtype: int64"
      ]
     },
     "execution_count": 15,
     "metadata": {},
     "output_type": "execute_result"
    }
   ],
   "source": [
    "train_y.value_counts()"
   ]
  },
  {
   "cell_type": "markdown",
   "id": "7ce62ce5",
   "metadata": {},
   "source": [
    "### Building a logistic Regression \n",
    "\n"
   ]
  },
  {
   "cell_type": "code",
   "execution_count": 39,
   "id": "1e15336b",
   "metadata": {},
   "outputs": [],
   "source": [
    "# Building the Logistic Regression \n",
    "from sklearn.linear_model import LogisticRegression\n",
    "# Applying logistic regression Classifier \n",
    "logistic_reg = LogisticRegression(max_iter=1000,random_state = 111)\n",
    "logistic_reg.fit(train_x,train_y)\n",
    " \n",
    "yPred_lr = logistic_reg.predict(test_x)"
   ]
  },
  {
   "cell_type": "markdown",
   "id": "29a763f7",
   "metadata": {},
   "source": [
    "### Building a Random Forest Model using scikit learn"
   ]
  },
  {
   "cell_type": "code",
   "execution_count": 18,
   "id": "25c89f3f",
   "metadata": {},
   "outputs": [],
   "source": [
    "# Building the Random Forest Classifier (RANDOM FOREST) \n",
    "from sklearn.ensemble import RandomForestClassifier \n",
    "# random forest model creation \n",
    "rfc = RandomForestClassifier(n_estimators = 100, random_state = 111) \n",
    "rfc.fit(train_x, train_y) \n",
    "# predictions \n",
    "yPred_rfc = rfc.predict(test_x) "
   ]
  },
  {
   "cell_type": "markdown",
   "id": "2faa34cc",
   "metadata": {},
   "source": [
    "### Building Decision Trees using scikit learn"
   ]
  },
  {
   "cell_type": "code",
   "execution_count": 19,
   "id": "04fb7122",
   "metadata": {},
   "outputs": [],
   "source": [
    "# Building the Decision Trees \n",
    "from sklearn.tree import DecisionTreeClassifier\n",
    "# Applying Decision Tree Classifier \n",
    "decision_tree = DecisionTreeClassifier(random_state = 111)\n",
    "decision_tree.fit(train_x, train_y) \n",
    "# predictions \n",
    "yPred_dt = decision_tree.predict(test_x) "
   ]
  },
  {
   "cell_type": "markdown",
   "id": "46ba2628",
   "metadata": {},
   "source": [
    "### Building Gradient Boosting Machine-GBM using scikit learn"
   ]
  },
  {
   "cell_type": "code",
   "execution_count": 20,
   "id": "7a38fc76",
   "metadata": {},
   "outputs": [],
   "source": [
    "# Building the GBM Classifer \n",
    "from sklearn.ensemble import GradientBoostingClassifier\n",
    "# Applying Gradient Boosting Classifier \n",
    "gradient_boosting = GradientBoostingClassifier(n_estimators = 100, random_state = 123)\n",
    "gradient_boosting.fit(train_x,train_y)\n",
    " \n",
    "y_pred_gb = gradient_boosting.predict(test_x)"
   ]
  },
  {
   "cell_type": "markdown",
   "id": "3d979f06",
   "metadata": {},
   "source": [
    "### Evaluation Metrics for Classification Models"
   ]
  },
  {
   "cell_type": "markdown",
   "id": "d1eb38cd",
   "metadata": {},
   "source": [
    "When dealing with classification models, there are some evaluation metrics that we can use in order to see the efficiency of our models."
   ]
  },
  {
   "cell_type": "code",
   "execution_count": 40,
   "id": "8fd310aa",
   "metadata": {},
   "outputs": [
    {
     "name": "stdout",
     "output_type": "stream",
     "text": [
      "The model used is Logistic Regression\n",
      "The accuracy is 0.9832753999742518\n",
      "The precision is 0.09154929577464789\n",
      "The recall is 0.934640522875817\n",
      "The AUC is 0.9590015839845141\n",
      "The F1-Score is 0.16676384839650146\n",
      "The Matthews correlation coefficient is0.28971210263541003\n"
     ]
    }
   ],
   "source": [
    "# Evaluating the Logistic Regression \n",
    "  \n",
    "n_outliers = len(fraud) \n",
    "n_errors = (yPred_lr != test_y).sum() \n",
    "print(\"The model used is Logistic Regression\") \n",
    "  \n",
    "acc = accuracy_score(test_y, yPred_lr) \n",
    "print(\"The accuracy is {}\".format(acc)) \n",
    "  \n",
    "prec = precision_score(test_y, yPred_lr) \n",
    "print(\"The precision is {}\".format(prec)) \n",
    "  \n",
    "rec = recall_score(test_y, yPred_lr) \n",
    "print(\"The recall is {}\".format(rec)) \n",
    "\n",
    "auc = roc_auc_score(test_y, yPred_lr)\n",
    "print(\"The AUC is {}\".format(auc))\n",
    "  \n",
    "f1 = f1_score(test_y, yPred_lr) \n",
    "print(\"The F1-Score is {}\".format(f1)) \n",
    "  \n",
    "MCC = matthews_corrcoef(test_y, yPred_lr) \n",
    "print(\"The Matthews correlation coefficient is{}\".format(MCC))"
   ]
  },
  {
   "cell_type": "code",
   "execution_count": 41,
   "id": "ed95ff0f",
   "metadata": {},
   "outputs": [
    {
     "data": {
      "image/png": "[encoded data removed]",
      "text/plain": [
       "<Figure size 500x500 with 2 Axes>"
      ]
     },
     "metadata": {},
     "output_type": "display_data"
    }
   ],
   "source": [
    "# printing the confusion matrix for Logistic Regression \n",
    "LABELS = ['Normal', 'Fraud'] \n",
    "conf_matrix = confusion_matrix(test_y, yPred_lr) \n",
    "plt.figure(figsize =(5, 5)) \n",
    "sns.heatmap(conf_matrix, xticklabels = LABELS,  \n",
    "            yticklabels = LABELS, annot = True, fmt =\"d\"); \n",
    "plt.title(\"Confusion matrix for Logistic Regression\") \n",
    "plt.ylabel('True class') \n",
    "plt.xlabel('Predicted class') \n",
    "plt.show() "
   ]
  },
  {
   "cell_type": "code",
   "execution_count": 31,
   "id": "3e5231aa",
   "metadata": {},
   "outputs": [
    {
     "name": "stdout",
     "output_type": "stream",
     "text": [
      "The model used is Random Forest classifier\n",
      "The accuracy is 0.9994733330992591\n",
      "The precision is 0.8461538461538461\n",
      "The recall is 0.8627450980392157\n",
      "The AUC is 0.9312318525721931\n",
      "The F1-Score is 0.854368932038835\n",
      "The Matthews correlation coefficient is0.854145549097181\n"
     ]
    }
   ],
   "source": [
    "# Evaluating the classifier Random Forest classifier\n",
    "  \n",
    "n_outliers = len(fraud) \n",
    "n_errors = (yPred_rfc != test_y).sum() \n",
    "print(\"The model used is Random Forest classifier\") \n",
    "  \n",
    "acc = accuracy_score(test_y, yPred_rfc) \n",
    "print(\"The accuracy is {}\".format(acc)) \n",
    "  \n",
    "prec = precision_score(test_y, yPred_rfc) \n",
    "print(\"The precision is {}\".format(prec)) \n",
    "  \n",
    "rec = recall_score(test_y, yPred_rfc) \n",
    "print(\"The recall is {}\".format(rec)) \n",
    "\n",
    "auc = roc_auc_score(test_y, yPred_rfc)\n",
    "print(\"The AUC is {}\".format(auc))\n",
    "  \n",
    "f1 = f1_score(test_y, yPred_rfc) \n",
    "print(\"The F1-Score is {}\".format(f1)) \n",
    "  \n",
    "MCC = matthews_corrcoef(test_y, yPred_rfc) \n",
    "print(\"The Matthews correlation coefficient is{}\".format(MCC))"
   ]
  },
  {
   "cell_type": "code",
   "execution_count": 36,
   "id": "a58a2c2d",
   "metadata": {},
   "outputs": [
    {
     "data": {
      "image/png": "[encoded data removed]",
      "text/plain": [
       "<Figure size 500x500 with 2 Axes>"
      ]
     },
     "metadata": {},
     "output_type": "display_data"
    }
   ],
   "source": [
    "# printing the confusion matrix \n",
    "LABELS = ['Normal', 'Fraud'] \n",
    "conf_matrix = confusion_matrix(test_y, yPred_rfc) \n",
    "plt.figure(figsize =(5, 5)) \n",
    "sns.heatmap(conf_matrix, xticklabels = LABELS,  \n",
    "            yticklabels = LABELS, annot = True, fmt =\"d\"); \n",
    "plt.title(\"Confusion matrix for Random Forest classifier\") \n",
    "plt.ylabel('True class') \n",
    "plt.xlabel('Predicted class') \n",
    "plt.show() "
   ]
  },
  {
   "cell_type": "code",
   "execution_count": 42,
   "id": "f43c1f08",
   "metadata": {},
   "outputs": [
    {
     "name": "stdout",
     "output_type": "stream",
     "text": [
      "The model used is Decision Trees\n",
      "The accuracy is 0.9976943693456456\n",
      "The precision is 0.42517006802721086\n",
      "The recall is 0.8169934640522876\n",
      "The AUC is 0.9075059945422652\n",
      "The F1-Score is 0.5592841163310962\n",
      "The Matthews correlation coefficient is0.588430707986104\n"
     ]
    }
   ],
   "source": [
    "# Evaluating the classifier Decision Trees\n",
    "  \n",
    "n_outliers = len(fraud) \n",
    "n_errors = (yPred_dt != test_y).sum() \n",
    "print(\"The model used is Decision Trees\") \n",
    "  \n",
    "acc = accuracy_score(test_y, yPred_dt) \n",
    "print(\"The accuracy is {}\".format(acc)) \n",
    "  \n",
    "prec = precision_score(test_y, yPred_dt) \n",
    "print(\"The precision is {}\".format(prec)) \n",
    "  \n",
    "rec = recall_score(test_y, yPred_dt) \n",
    "print(\"The recall is {}\".format(rec)) \n",
    "\n",
    "auc = roc_auc_score(test_y, yPred_dt)\n",
    "print(\"The AUC is {}\".format(auc))\n",
    "  \n",
    "f1 = f1_score(test_y, yPred_dt) \n",
    "print(\"The F1-Score is {}\".format(f1)) \n",
    "  \n",
    "MCC = matthews_corrcoef(test_y, yPred_dt) \n",
    "print(\"The Matthews correlation coefficient is{}\".format(MCC))"
   ]
  },
  {
   "cell_type": "code",
   "execution_count": 43,
   "id": "3ab51351",
   "metadata": {},
   "outputs": [
    {
     "data": {
      "image/png": "[encoded data removed]",
      "text/plain": [
       "<Figure size 500x500 with 2 Axes>"
      ]
     },
     "metadata": {},
     "output_type": "display_data"
    }
   ],
   "source": [
    "# printing the confusion matrix \n",
    "LABELS = ['Normal', 'Fraud'] \n",
    "conf_matrix = confusion_matrix(test_y, yPred_dt) \n",
    "plt.figure(figsize =(5, 5)) \n",
    "sns.heatmap(conf_matrix, xticklabels = LABELS,  \n",
    "            yticklabels = LABELS, annot = True, fmt =\"d\"); \n",
    "plt.title(\"Confusion matrix for Decision Trees\") \n",
    "plt.ylabel('True class') \n",
    "plt.xlabel('Predicted class') \n",
    "plt.show() "
   ]
  },
  {
   "cell_type": "code",
   "execution_count": 46,
   "id": "c1199bfb",
   "metadata": {},
   "outputs": [
    {
     "name": "stdout",
     "output_type": "stream",
     "text": [
      "The model used is Gradient Boosting Machines\n",
      "The accuracy is 0.9938672565335955\n",
      "The precision is 0.21505376344086022\n",
      "The recall is 0.9150326797385621\n",
      "The AUC is 0.9545206780097429\n",
      "The F1-Score is 0.3482587064676617\n",
      "The Matthews correlation coefficient is0.4419880019096952\n"
     ]
    }
   ],
   "source": [
    "# Evaluating the classifier GBM\n",
    "  \n",
    "n_outliers = len(fraud) \n",
    "n_errors = (y_pred_gb != test_y).sum() \n",
    "print(\"The model used is Gradient Boosting Machines\") \n",
    "  \n",
    "acc = accuracy_score(test_y, y_pred_gb) \n",
    "print(\"The accuracy is {}\".format(acc)) \n",
    "  \n",
    "prec = precision_score(test_y, y_pred_gb) \n",
    "print(\"The precision is {}\".format(prec)) \n",
    "  \n",
    "rec = recall_score(test_y, y_pred_gb) \n",
    "print(\"The recall is {}\".format(rec)) \n",
    "\n",
    "auc = roc_auc_score(test_y, y_pred_gb)\n",
    "print(\"The AUC is {}\".format(auc))\n",
    "  \n",
    "f1 = f1_score(test_y, y_pred_gb) \n",
    "print(\"The F1-Score is {}\".format(f1)) \n",
    "  \n",
    "MCC = matthews_corrcoef(test_y, y_pred_gb) \n",
    "print(\"The Matthews correlation coefficient is{}\".format(MCC))"
   ]
  },
  {
   "cell_type": "code",
   "execution_count": 47,
   "id": "d64ce4f5",
   "metadata": {},
   "outputs": [
    {
     "data": {
      "image/png": "[encoded data removed]",
      "text/plain": [
       "<Figure size 500x500 with 2 Axes>"
      ]
     },
     "metadata": {},
     "output_type": "display_data"
    }
   ],
   "source": [
    "# printing the confusion matrix \n",
    "LABELS = ['Normal', 'Fraud'] \n",
    "conf_matrix = confusion_matrix(test_y, y_pred_gb) \n",
    "plt.figure(figsize =(5, 5)) \n",
    "sns.heatmap(conf_matrix, xticklabels = LABELS,  \n",
    "            yticklabels = LABELS, annot = True, fmt =\"d\"); \n",
    "plt.title(\"Confusion matrix for GBM \") \n",
    "plt.ylabel('True class') \n",
    "plt.xlabel('Predicted class') \n",
    "plt.show() "
   ]
  },
  {
   "cell_type": "markdown",
   "id": "a1bba558",
   "metadata": {},
   "source": [
    "### Conclusion "
   ]
  },
  {
   "cell_type": "markdown",
   "id": "64c22d19",
   "metadata": {},
   "source": [
    "<i>In this project, our goal is to detect fraudulent transactions when they occur, and the model that best performed was the Logistic Regression with a recall of 93%, correctly detecting 143 fraudulent transactions out of 153. <br> However, it is also important to note that the Logistic Regression had the biggest number of false positives, that is, 1,419 genuine transactions were mistakenly labeled as fraud, that’s 1.66% of all genuine transactions.</i>"
   ]
  },
  {
   "cell_type": "code",
   "execution_count": null,
   "id": "69e86415",
   "metadata": {},
   "outputs": [],
   "source": []
  }
 ],
 "metadata": {
  "kernelspec": {
   "display_name": "Python 3 (ipykernel)",
   "language": "python",
   "name": "python3"
  },
  "language_info": {
   "codemirror_mode": {
    "name": "ipython",
    "version": 3
   },
   "file_extension": ".py",
   "mimetype": "text/x-python",
   "name": "python",
   "nbconvert_exporter": "python",
   "pygments_lexer": "ipython3",
   "version": "3.11.5"
  }
 },
 "nbformat": 4,
 "nbformat_minor": 5
}
